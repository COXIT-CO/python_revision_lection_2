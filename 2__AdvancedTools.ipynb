{
 "cells": [
  {
   "cell_type": "markdown",
   "id": "58829db9-5562-4b5a-99f8-e9716265913f",
   "metadata": {},
   "source": [
    "# Advanced Python basics"
   ]
  },
  {
   "cell_type": "markdown",
   "id": "c31eaf98-45b8-4f9f-b7dc-7e46b4da7e83",
   "metadata": {
    "tags": []
   },
   "source": [
    "## Lambda Functions"
   ]
  },
  {
   "cell_type": "code",
   "execution_count": null,
   "id": "1278126d-5eff-4c3b-90ce-fa606ed8b562",
   "metadata": {},
   "outputs": [],
   "source": [
    "def add(x, y):\n",
    "    return x + y\n",
    "add(5,3)"
   ]
  },
  {
   "cell_type": "code",
   "execution_count": null,
   "id": "0e856f37-1fd8-447f-9aab-eba5e0d5c482",
   "metadata": {},
   "outputs": [],
   "source": [
    "add = lambda x, y: x + y\n",
    "add(5,3)"
   ]
  },
  {
   "cell_type": "code",
   "execution_count": null,
   "id": "9aa6a146-f9f5-4d2b-b357-9e3870ee178a",
   "metadata": {},
   "outputs": [],
   "source": [
    "(lambda x, y: x + y)(5, 3)"
   ]
  },
  {
   "cell_type": "code",
   "execution_count": null,
   "id": "58eeaf43-af6a-42a5-bd23-4d8681fdf888",
   "metadata": {},
   "outputs": [],
   "source": [
    "def make_adder(n):\n",
    "    return lambda x: x + n\n",
    "\n",
    "plus_3 = make_adder(3)\n",
    "plus_5 = make_adder(5)\n",
    "\n",
    "print(plus_3(4))\n",
    "print(plus_5(4))"
   ]
  },
  {
   "cell_type": "markdown",
   "id": "902212e2-8d67-43f7-9885-5f548447636c",
   "metadata": {
    "tags": []
   },
   "source": [
    "## itertools Module"
   ]
  },
  {
   "cell_type": "markdown",
   "id": "16d5fa77-e484-473b-84e8-5174800cf5f0",
   "metadata": {},
   "source": [
    "The itertools module is a collection of tools intended to be fast and use memory efficiently when handling iterators (like lists or dictionaries)"
   ]
  },
  {
   "cell_type": "markdown",
   "id": "c02b4bae-0672-4716-8247-0fb57cde63a3",
   "metadata": {},
   "source": [
    "The module standardizes a core set of fast, memory efficient tools that are useful by themselves or in combination. Together, they form an “iterator algebra” making it possible to construct specialized tools succinctly and efficiently in pure Python."
   ]
  },
  {
   "cell_type": "markdown",
   "id": "f2aa5931-339f-4f8b-abc5-6108fe663019",
   "metadata": {},
   "source": [
    "The itertools module comes in the standard library and must be imported. The operator module will also be used. This module is not necessary when using itertools, but needed for some of the examples below."
   ]
  },
  {
   "cell_type": "code",
   "execution_count": null,
   "id": "3ee8c9c0-826f-44f7-b734-c3250a851798",
   "metadata": {},
   "outputs": [],
   "source": [
    "import itertools\n",
    "import operator"
   ]
  },
  {
   "cell_type": "markdown",
   "id": "d19d407c-70ef-4583-a7cc-d2e7de8d82f3",
   "metadata": {
    "tags": []
   },
   "source": [
    "### accumulate()"
   ]
  },
  {
   "cell_type": "code",
   "execution_count": null,
   "id": "26218372-4a38-499b-90bd-de340ba1243f",
   "metadata": {
    "tags": []
   },
   "outputs": [],
   "source": [
    "data = [1, 2, 3, 4, 5]\n",
    "result = itertools.accumulate(data, operator.mul)\n",
    "for each in result:\n",
    "    print(each)"
   ]
  },
  {
   "cell_type": "markdown",
   "id": "9b961217-0e3f-4bb0-953c-4d04f2f57886",
   "metadata": {
    "tags": []
   },
   "source": [
    "### combinations()"
   ]
  },
  {
   "cell_type": "code",
   "execution_count": null,
   "id": "af189b24-74d1-4e50-83c0-4e7825b12655",
   "metadata": {
    "tags": []
   },
   "outputs": [],
   "source": [
    "shapes = ['circle', 'triangle', 'square',]\n",
    "result = itertools.combinations(shapes, 2)\n",
    "for each in result:\n",
    "    print(each)"
   ]
  },
  {
   "cell_type": "markdown",
   "id": "21563ae3-f929-40b5-96d1-bd746b0c63fb",
   "metadata": {
    "tags": []
   },
   "source": [
    "### combinations_with_replacement()"
   ]
  },
  {
   "cell_type": "code",
   "execution_count": null,
   "id": "944853d3-4328-4af0-aa01-3430e58e344c",
   "metadata": {
    "tags": []
   },
   "outputs": [],
   "source": [
    "shapes = ['circle', 'triangle', 'square']\n",
    "result = itertools.combinations_with_replacement(shapes, 2)\n",
    "for each in result:\n",
    "    print(each)"
   ]
  },
  {
   "cell_type": "markdown",
   "id": "75a6956a-8425-450b-b6af-76e0e56033ac",
   "metadata": {
    "tags": []
   },
   "source": [
    "### count()"
   ]
  },
  {
   "cell_type": "code",
   "execution_count": null,
   "id": "4baed2f1-1cdc-470d-85ec-6f88ecb528c3",
   "metadata": {
    "tags": []
   },
   "outputs": [],
   "source": [
    "for i in itertools.count(10,3):\n",
    "    print(i)\n",
    "    if i > 20:\n",
    "        break"
   ]
  },
  {
   "cell_type": "markdown",
   "id": "063e9a50-ee8d-415a-ad2a-bb135f42f783",
   "metadata": {
    "tags": []
   },
   "source": [
    "### cycle()"
   ]
  },
  {
   "cell_type": "code",
   "execution_count": null,
   "id": "b83f35d8-67c8-4226-9df5-292219b7130b",
   "metadata": {
    "tags": []
   },
   "outputs": [],
   "source": [
    "colors = ['red', 'orange', 'yellow', 'green', 'blue', 'violet']\n",
    "i = 0\n",
    "for color in itertools.cycle(colors):\n",
    "    if i > 10:\n",
    "        break\n",
    "    print(color)\n",
    "    i+=1\n",
    "    "
   ]
  },
  {
   "cell_type": "markdown",
   "id": "5e9ce1a5-9be9-4917-b503-3263541a4263",
   "metadata": {
    "tags": []
   },
   "source": [
    "### groupby()"
   ]
  },
  {
   "cell_type": "code",
   "execution_count": null,
   "id": "eb544814-2fa1-4307-881a-e29ffc045ea0",
   "metadata": {
    "tags": []
   },
   "outputs": [],
   "source": [
    "robots = [\n",
    "    {\n",
    "    'name': 'blaster',\n",
    "    'faction': 'autobot'\n",
    "    }, \n",
    "    {\n",
    "    'name': 'galvatron',\n",
    "    'faction': 'decepticon'\n",
    "    }, \n",
    "    {\n",
    "    'name': 'jazz',\n",
    "    'faction': 'autobot'\n",
    "    }, \n",
    "    {\n",
    "    'name': 'metroplex',\n",
    "    'faction': 'autobot'\n",
    "    },\n",
    "    {\n",
    "    'name': 'megatron',\n",
    "    'faction': 'decepticon'\n",
    "    }, \n",
    "    {\n",
    "    'name': 'starcream',\n",
    "    'faction': 'decepticon'\n",
    "    }]\n",
    "for key, group in itertools.groupby(robots, key=lambda x: x['faction']):\n",
    "    print(key)\n",
    "    print(list(group))"
   ]
  },
  {
   "cell_type": "markdown",
   "id": "29d3f692-1d75-4890-a07f-94d093635f99",
   "metadata": {},
   "source": [
    "## Exception Handling"
   ]
  },
  {
   "cell_type": "markdown",
   "id": "85a7c134-1be8-4804-80ed-9e19d78197e0",
   "metadata": {},
   "source": [
    "### Basic exception handling"
   ]
  },
  {
   "cell_type": "code",
   "execution_count": null,
   "id": "b59921d4-095c-47b0-8749-fa66b3c09f89",
   "metadata": {},
   "outputs": [],
   "source": [
    "def spam(divideBy):\n",
    "    try:\n",
    "        return 42 / divideBy\n",
    "    except ZeroDivisionError as e:\n",
    "        print('Error: Invalid argument: {}'.format(e))\n",
    "print(spam(2))\n",
    "print(spam(12))\n",
    "print(spam(0))\n",
    "print(spam(1))"
   ]
  },
  {
   "cell_type": "markdown",
   "id": "442929f1-e544-4a66-940a-b7fb835626c3",
   "metadata": {},
   "source": [
    "### Final code in exception handling"
   ]
  },
  {
   "cell_type": "code",
   "execution_count": null,
   "id": "e178e182-8d22-41e8-b287-b7fbb2059a93",
   "metadata": {},
   "outputs": [],
   "source": [
    "def spam(divideBy):\n",
    "    try:\n",
    "        return 42 / divideBy\n",
    "    except ZeroDivisionError as e:\n",
    "        print('Error: Invalid argument: {}'.format(e))\n",
    "    finally:\n",
    "        print(\"-- division finished --\")\n",
    "print(spam(2))"
   ]
  },
  {
   "cell_type": "markdown",
   "id": "684d0443-f740-4b51-9b71-c3ff58e536a6",
   "metadata": {},
   "source": [
    "## Logging\n",
    "\n",
    "Logging guide https://coralogix.com/log-analytics-blog/python-logging-best-practices-tips/"
   ]
  },
  {
   "cell_type": "markdown",
   "id": "1e7f11d4-2d62-4e3d-9817-660c2072cd9d",
   "metadata": {},
   "source": [
    "## File handling"
   ]
  },
  {
   "cell_type": "markdown",
   "id": "7acdb5af-8203-4722-8637-878e3be50020",
   "metadata": {},
   "source": [
    "Guide: https://pynative.com/python/file-handling/"
   ]
  },
  {
   "cell_type": "markdown",
   "id": "14e2d479-70eb-4732-bf58-fd5b5dfb610e",
   "metadata": {
    "tags": []
   },
   "source": [
    "## Context managers\n",
    "\n",
    "While Python's context managers are widely used, few understand the purpose behind their use. These statements, commonly used with reading and writing files, assist the application in conserving system memory and improve resource management by ensuring specific resources are only in use for certain processes.\n",
    "with statement\n",
    "\n",
    "A context manager is an object that is notified when a context (a block of code) starts and ends. You commonly use one with the with statement. It takes care of the notifying.\n",
    "\n",
    "For example, file objects are context managers. When a context ends, the file object is closed automatically"
   ]
  },
  {
   "cell_type": "code",
   "execution_count": null,
   "id": "3361d5f3-d2b5-445c-bd76-c55ff9facf43",
   "metadata": {},
   "outputs": [],
   "source": [
    "with open(filename) as f:\n",
    "    file_contents = f.read()\n",
    "\n",
    "# try:\n",
    "#    f = open(filename)\n",
    "# finnaly:\n",
    "#    f.close()"
   ]
  },
  {
   "cell_type": "markdown",
   "id": "fd0c1118-5d6e-4c70-8406-2ab3de95e594",
   "metadata": {},
   "source": [
    "Anything that ends execution of the block causes the context manager's exit method to be called. This includes exceptions, and can be useful when an error causes you to prematurely exit from an open file or connection. Exiting a script without properly closing files/connections is a bad idea, that may cause data loss or other problems. By using a context manager you can ensure that precautions are always taken to prevent damage or loss in this way.\n",
    "Writing your own contextmanager using generator syntax\n",
    "\n",
    "It is also possible to write a context manager using generator syntax thanks to the contextlib.contextmanager decorator:"
   ]
  },
  {
   "cell_type": "code",
   "execution_count": null,
   "id": "e8827988-f9ce-4022-baa9-47d101f5465b",
   "metadata": {},
   "outputs": [],
   "source": [
    "import contextlib\n",
    "@contextlib.contextmanager\n",
    "def context_manager(num):\n",
    "    print('Enter')\n",
    "    yield num + 1\n",
    "    print('Exit')\n",
    "with context_manager(2) as cm:\n",
    "    # the following instructions are run when the 'yield' point of the context\n",
    "    # manager is reached.\n",
    "    # 'cm' will have the value that was yielded\n",
    "    print('Right in the middle with cm = {}'.format(cm))"
   ]
  },
  {
   "cell_type": "markdown",
   "id": "c238ee2a-da37-432d-906d-be18bf5d3d81",
   "metadata": {
    "tags": []
   },
   "source": [
    "## PEP 8"
   ]
  },
  {
   "cell_type": "markdown",
   "id": "282d51cd-0b39-4a67-8d1c-abcd7d327e47",
   "metadata": {},
   "source": [
    "Convention Docs https://peps.python.org/pep-0008/"
   ]
  }
 ],
 "metadata": {
  "kernelspec": {
   "display_name": "Python 3 (ipykernel)",
   "language": "python",
   "name": "python3"
  },
  "language_info": {
   "codemirror_mode": {
    "name": "ipython",
    "version": 3
   },
   "file_extension": ".py",
   "mimetype": "text/x-python",
   "name": "python",
   "nbconvert_exporter": "python",
   "pygments_lexer": "ipython3",
   "version": "3.9.7"
  }
 },
 "nbformat": 4,
 "nbformat_minor": 5
}
